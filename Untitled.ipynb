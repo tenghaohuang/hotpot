{
 "cells": [
  {
   "cell_type": "code",
   "execution_count": 30,
   "metadata": {},
   "outputs": [
    {
     "name": "stdout",
     "output_type": "stream",
     "text": [
      "torch.Size([24, 45, 80])\n"
     ]
    },
    {
     "ename": "AttributeError",
     "evalue": "'builtin_function_or_method' object has no attribute 'randint'",
     "output_type": "error",
     "traceback": [
      "\u001b[1;31m---------------------------------------------------------------------------\u001b[0m",
      "\u001b[1;31mAttributeError\u001b[0m                            Traceback (most recent call last)",
      "\u001b[1;32m<ipython-input-30-56b691b67246>\u001b[0m in \u001b[0;36m<module>\u001b[1;34m\u001b[0m\n\u001b[0;32m      6\u001b[0m \u001b[1;33m\u001b[0m\u001b[0m\n\u001b[0;32m      7\u001b[0m \u001b[0mprint\u001b[0m\u001b[1;33m(\u001b[0m\u001b[0mc\u001b[0m\u001b[1;33m.\u001b[0m\u001b[0msize\u001b[0m\u001b[1;33m(\u001b[0m\u001b[1;33m)\u001b[0m\u001b[1;33m)\u001b[0m\u001b[1;33m\u001b[0m\u001b[1;33m\u001b[0m\u001b[0m\n\u001b[1;32m----> 8\u001b[1;33m \u001b[0mc\u001b[0m \u001b[1;33m=\u001b[0m \u001b[0mtorch\u001b[0m\u001b[1;33m.\u001b[0m\u001b[0mtensor\u001b[0m\u001b[1;33m.\u001b[0m\u001b[0mrandint\u001b[0m\u001b[1;33m(\u001b[0m\u001b[1;36m2\u001b[0m\u001b[1;33m,\u001b[0m\u001b[1;36m2\u001b[0m\u001b[1;33m)\u001b[0m\u001b[1;33m\u001b[0m\u001b[1;33m\u001b[0m\u001b[0m\n\u001b[0m\u001b[0;32m      9\u001b[0m \u001b[0ma\u001b[0m \u001b[1;33m=\u001b[0m \u001b[0mc\u001b[0m\u001b[1;33m[\u001b[0m\u001b[1;36m1\u001b[0m\u001b[1;33m:\u001b[0m\u001b[1;33m]\u001b[0m\u001b[1;33m.\u001b[0m\u001b[0munsqueeze\u001b[0m\u001b[1;33m(\u001b[0m\u001b[1;33m-\u001b[0m\u001b[1;36m1\u001b[0m\u001b[1;33m)\u001b[0m\u001b[1;33m\u001b[0m\u001b[1;33m\u001b[0m\u001b[0m\n\u001b[0;32m     10\u001b[0m \u001b[0mprint\u001b[0m\u001b[1;33m(\u001b[0m\u001b[0ma\u001b[0m\u001b[1;33m.\u001b[0m\u001b[0msize\u001b[0m\u001b[1;33m(\u001b[0m\u001b[1;33m)\u001b[0m\u001b[1;33m)\u001b[0m\u001b[1;33m\u001b[0m\u001b[1;33m\u001b[0m\u001b[0m\n",
      "\u001b[1;31mAttributeError\u001b[0m: 'builtin_function_or_method' object has no attribute 'randint'"
     ]
    }
   ],
   "source": [
    "import pickle\n",
    "import torch\n",
    "input_= pickle.load(open('save.p','rb'))\n",
    "\n",
    "c = input_.clone().detach().to(torch.int64)\n",
    "\n",
    "print(c.size())\n",
    "c = torch.tensor.randint(2,2)\n",
    "a = c[1:].unsqueeze(-1)\n",
    "print(a.size())"
   ]
  },
  {
   "cell_type": "code",
   "execution_count": 47,
   "metadata": {},
   "outputs": [],
   "source": [
    "import torch\n",
    "from torch import nn\n",
    "class LockedDropout(nn.Module):\n",
    "    def __init__(self, dropout):\n",
    "        super().__init__()\n",
    "        self.dropout = dropout\n",
    "\n",
    "    def forward(self, x):\n",
    "        dropout = self.dropout\n",
    "        if not self.training:\n",
    "            return x\n",
    "        m = x.data.new(x.size(0), 1, x.size(2)).bernoulli_(1 - dropout)\n",
    "        mask = Variable(m.div_(1 - dropout), requires_grad=False)\n",
    "        mask = mask.expand_as(x)\n",
    "        return mask * x"
   ]
  },
  {
   "cell_type": "code",
   "execution_count": 2,
   "metadata": {},
   "outputs": [
    {
     "ename": "NameError",
     "evalue": "name 'torch' is not defined",
     "output_type": "error",
     "traceback": [
      "\u001b[1;31m---------------------------------------------------------------------------\u001b[0m",
      "\u001b[1;31mNameError\u001b[0m                                 Traceback (most recent call last)",
      "\u001b[1;32m<ipython-input-2-a7122ec4f4b5>\u001b[0m in \u001b[0;36m<module>\u001b[1;34m\u001b[0m\n\u001b[0;32m      4\u001b[0m \u001b[1;32mfrom\u001b[0m \u001b[0mtorch\u001b[0m\u001b[1;33m.\u001b[0m\u001b[0mnn\u001b[0m\u001b[1;33m.\u001b[0m\u001b[0mutils\u001b[0m \u001b[1;32mimport\u001b[0m \u001b[0mrnn\u001b[0m\u001b[1;33m\u001b[0m\u001b[1;33m\u001b[0m\u001b[0m\n\u001b[0;32m      5\u001b[0m \u001b[1;32mimport\u001b[0m \u001b[0mnumpy\u001b[0m \u001b[1;32mas\u001b[0m \u001b[0mnp\u001b[0m\u001b[1;33m\u001b[0m\u001b[1;33m\u001b[0m\u001b[0m\n\u001b[1;32m----> 6\u001b[1;33m input_lengths = torch.tensor([22, 14, 14, 31, 23, 11, 24, 16, 17, 18, 31, 16, 29, 15, 24, 25, 15,  8,\n\u001b[0m\u001b[0;32m      7\u001b[0m         12, 45, 14, 13, 15, 10], device='cuda:0')\n\u001b[0;32m      8\u001b[0m \u001b[0minput_lengths\u001b[0m\u001b[1;33m,\u001b[0m\u001b[0mindices\u001b[0m \u001b[1;33m=\u001b[0m \u001b[0mtorch\u001b[0m\u001b[1;33m.\u001b[0m\u001b[0msort\u001b[0m\u001b[1;33m(\u001b[0m\u001b[0minput_lengths\u001b[0m\u001b[1;33m,\u001b[0m\u001b[0mdescending\u001b[0m \u001b[1;33m=\u001b[0m \u001b[1;32mTrue\u001b[0m\u001b[1;33m)\u001b[0m\u001b[1;33m\u001b[0m\u001b[1;33m\u001b[0m\u001b[0m\n",
      "\u001b[1;31mNameError\u001b[0m: name 'torch' is not defined"
     ]
    }
   ],
   "source": [
    "import pickle\n",
    "input_= pickle.load(open('save.p','rb'))\n",
    "\n",
    "from torch.nn.utils import rnn\n",
    "import numpy as np\n",
    "input_lengths = torch.tensor([22, 14, 14, 31, 23, 11, 24, 16, 17, 18, 31, 16, 29, 15, 24, 25, 15,  8,\n",
    "        12, 45, 14, 13, 15, 10], device='cuda:0')\n",
    "input_lengths,indices = torch.sort(input_lengths,descending = True)\n",
    "input_ = input_.cpu().detach().numpy()\n",
    "indices = indices.data.cpu().numpy()\n",
    "print(input_[0])\n",
    "inn = input_[indices]\n",
    "a = torch.tensor(inn,device = 'cuda:0')\n",
    "print(a[0])\n",
    "bsz, slen = input_.size(0), input_.size(1)\n",
    "output = input_\n",
    "outputs = []\n",
    "if input_lengths is not None:\n",
    "    lens = input_lengths.data.cpu().numpy()\n",
    "for i in range(1):\n",
    "#     hidden = self.get_init(bsz, i)\n",
    "\n",
    "#     output = LockedDropout(output)\n",
    "    if input_lengths is not None:\n",
    "        output = rnn.pack_padded_sequence(output, lens, batch_first=True)\n",
    "print(output)"
   ]
  },
  {
   "cell_type": "code",
   "execution_count": 3,
   "metadata": {},
   "outputs": [
    {
     "name": "stdout",
     "output_type": "stream",
     "text": [
      "160\n",
      "torch.Size([24, 45, 160])\n",
      "torch.Size([2, 1, 24, 80])\n",
      "torch.Size([2, 1, 24, 80])\n"
     ]
    }
   ],
   "source": [
    "import pickle\n",
    "import torch\n",
    "from torch import nn\n",
    "dec_in,enc_hidden= pickle.load(open('combine.p','rb'))\n",
    "print(dec_in.size(2))\n",
    "print(dec_in.size())\n",
    "print(enc_hidden.size())\n",
    "# if isinstance(enc_hidden, tuple):  # meaning we have a LSTM encoder\n",
    "#     enc_hidden = tuple(\n",
    "#         (torch.cat((hidden[0:hidden.size(0):2], hidden[1:hidden.size(0):2]), dim=2) for hidden in enc_hidden))\n",
    "# else:  # GRU layer\n",
    "#     print('lol')\n",
    "#     enc_hidden = torch.cat((enc_hidden[0:enc_hidden.size(0):2], enc_hidden[1:enc_hidden.size(0):2]), dim=2)\n",
    "\n",
    "print(enc_hidden.size())"
   ]
  },
  {
   "cell_type": "code",
   "execution_count": 12,
   "metadata": {},
   "outputs": [
    {
     "name": "stdout",
     "output_type": "stream",
     "text": [
      "tensor([1, 2, 3, 4])\n",
      "(tensor([1, 2]), tensor([3, 4]))\n"
     ]
    }
   ],
   "source": [
    "a = torch.tensor([1,2,3,4])\n",
    "print(a)\n",
    "a = a.split(2,-1)\n",
    "# b = a[:,:-1,:].split(1,1)\n",
    "print(a)"
   ]
  },
  {
   "cell_type": "code",
   "execution_count": 8,
   "metadata": {
    "collapsed": true
   },
   "outputs": [
    {
     "name": "stdout",
     "output_type": "stream",
     "text": [
      "torch.Size([24, 45, 160])\n",
      "<class 'torch.Tensor'>\n",
      "torch.Size([2, 1, 24, 80])\n"
     ]
    }
   ],
   "source": [
    "dec = nn.LSTM(input_size = 80*2, hidden_size = 80, num_layers = 1, batch_first=bool(True), bidirectional=bool(False), dropout=0.)\n",
    "dec_in = dec_in.cpu().detach().numpy()\n",
    "dec_in = torch.tensor(dec_in,device = 'cpu')\n",
    "enc_hidden = enc_hidden.cpu().detach().numpy()\n",
    "enc_hidden = torch.tensor(enc_hidden,device = 'cpu')\n",
    "print(dec_in.size())\n",
    "print(type(enc_hidden))\n",
    "print(enc_hidden.size())\n",
    "outputs = dec(dec_in, tuple(enc_hidden))\n",
    "# print(outputs)"
   ]
  },
  {
   "cell_type": "code",
   "execution_count": 18,
   "metadata": {},
   "outputs": [],
   "source": [
    "import pickle\n",
    "\n",
    "input_= pickle.load(open('save.p','rb'))\n",
    "\n",
    "dec_init= pickle.load(open('lstm_dec_init.p','rb'))\n",
    "enc_hiddens= pickle.load(open('lstm_output.p','rb'))"
   ]
  },
  {
   "cell_type": "code",
   "execution_count": 5,
   "metadata": {},
   "outputs": [
    {
     "name": "stdout",
     "output_type": "stream",
     "text": [
      "24\n"
     ]
    }
   ],
   "source": [
    "print(len(output[0]))"
   ]
  },
  {
   "cell_type": "code",
   "execution_count": 19,
   "metadata": {},
   "outputs": [],
   "source": [
    "import torch\n",
    "def generate_sent_masks(enc_hiddens,\n",
    "                        source_lengths) -> torch.Tensor:\n",
    "    \"\"\" Generate sentence masks for encoder hidden states.\n",
    "\n",
    "    @param enc_hiddens (Tensor): encodings of shape (b, src_len, 2*h), where b = batch size,\n",
    "                                 src_len = max source length, h = hidden size.\n",
    "    @param source_lengths (List[int]): List of actual lengths for each of the sentences in the batch.\n",
    "\n",
    "    @returns enc_masks (Tensor): Tensor of sentence masks of shape (b, src_len),\n",
    "                                where src_len = max source length, h = hidden size.\n",
    "    \"\"\"\n",
    "    enc_masks = torch.zeros(\n",
    "        enc_hiddens.size(0), enc_hiddens.size(1), dtype=torch.float)\n",
    "    for e_id, src_len in enumerate(source_lengths):\n",
    "        enc_masks[e_id, src_len:] = 1\n",
    "    return enc_masks.to(self.device)"
   ]
  },
  {
   "cell_type": "code",
   "execution_count": 20,
   "metadata": {},
   "outputs": [],
   "source": [
    "input_= pickle.load(open('save.p','rb'))\n",
    "input_lengths = torch.tensor([22, 14, 14, 31, 23, 11, 24, 16, 17, 18, 31, 16, 29, 15, 24, 25, 15,  8,\n",
    "        12, 45, 14, 13, 15, 10], device='cuda:0')\n",
    "input_lengths,indices = torch.sort(input_lengths,descending = True)\n"
   ]
  },
  {
   "cell_type": "code",
   "execution_count": 21,
   "metadata": {},
   "outputs": [
    {
     "ename": "AttributeError",
     "evalue": "'tuple' object has no attribute 'size'",
     "output_type": "error",
     "traceback": [
      "\u001b[1;31m---------------------------------------------------------------------------\u001b[0m",
      "\u001b[1;31mAttributeError\u001b[0m                            Traceback (most recent call last)",
      "\u001b[1;32m<ipython-input-21-f73f98394b20>\u001b[0m in \u001b[0;36m<module>\u001b[1;34m\u001b[0m\n\u001b[1;32m----> 1\u001b[1;33m \u001b[0mmasks\u001b[0m \u001b[1;33m=\u001b[0m \u001b[0mgenerate_sent_masks\u001b[0m\u001b[1;33m(\u001b[0m\u001b[0menc_hiddens\u001b[0m\u001b[1;33m,\u001b[0m\u001b[0minput_lengths\u001b[0m\u001b[1;33m)\u001b[0m\u001b[1;33m\u001b[0m\u001b[1;33m\u001b[0m\u001b[0m\n\u001b[0m",
      "\u001b[1;32m<ipython-input-19-94691f67ad78>\u001b[0m in \u001b[0;36mgenerate_sent_masks\u001b[1;34m(enc_hiddens, source_lengths)\u001b[0m\n\u001b[0;32m     12\u001b[0m     \"\"\"\n\u001b[0;32m     13\u001b[0m     enc_masks = torch.zeros(\n\u001b[1;32m---> 14\u001b[1;33m         enc_hiddens.size(0), enc_hiddens.size(1), dtype=torch.float)\n\u001b[0m\u001b[0;32m     15\u001b[0m     \u001b[1;32mfor\u001b[0m \u001b[0me_id\u001b[0m\u001b[1;33m,\u001b[0m \u001b[0msrc_len\u001b[0m \u001b[1;32min\u001b[0m \u001b[0menumerate\u001b[0m\u001b[1;33m(\u001b[0m\u001b[0msource_lengths\u001b[0m\u001b[1;33m)\u001b[0m\u001b[1;33m:\u001b[0m\u001b[1;33m\u001b[0m\u001b[1;33m\u001b[0m\u001b[0m\n\u001b[0;32m     16\u001b[0m         \u001b[0menc_masks\u001b[0m\u001b[1;33m[\u001b[0m\u001b[0me_id\u001b[0m\u001b[1;33m,\u001b[0m \u001b[0msrc_len\u001b[0m\u001b[1;33m:\u001b[0m\u001b[1;33m]\u001b[0m \u001b[1;33m=\u001b[0m \u001b[1;36m1\u001b[0m\u001b[1;33m\u001b[0m\u001b[1;33m\u001b[0m\u001b[0m\n",
      "\u001b[1;31mAttributeError\u001b[0m: 'tuple' object has no attribute 'size'"
     ]
    }
   ],
   "source": [
    "masks = generate_sent_masks(enc_hiddens,input_lengths)"
   ]
  },
  {
   "cell_type": "code",
   "execution_count": 22,
   "metadata": {},
   "outputs": [
    {
     "name": "stdout",
     "output_type": "stream",
     "text": [
      "torch.Size([24, 45, 160])\n"
     ]
    }
   ],
   "source": [
    "print(enc_hiddens[0].size())"
   ]
  },
  {
   "cell_type": "code",
   "execution_count": 23,
   "metadata": {},
   "outputs": [
    {
     "name": "stdout",
     "output_type": "stream",
     "text": [
      "torch.Size([1, 45, 160])\n",
      "torch.Size([1, 45, 160])\n",
      "torch.Size([1, 45, 160])\n",
      "torch.Size([1, 45, 160])\n",
      "torch.Size([1, 45, 160])\n",
      "torch.Size([1, 45, 160])\n",
      "torch.Size([1, 45, 160])\n",
      "torch.Size([1, 45, 160])\n",
      "torch.Size([1, 45, 160])\n",
      "torch.Size([1, 45, 160])\n",
      "torch.Size([1, 45, 160])\n",
      "torch.Size([1, 45, 160])\n",
      "torch.Size([1, 45, 160])\n",
      "torch.Size([1, 45, 160])\n",
      "torch.Size([1, 45, 160])\n",
      "torch.Size([1, 45, 160])\n",
      "torch.Size([1, 45, 160])\n",
      "torch.Size([1, 45, 160])\n",
      "torch.Size([1, 45, 160])\n",
      "torch.Size([1, 45, 160])\n",
      "torch.Size([1, 45, 160])\n",
      "torch.Size([1, 45, 160])\n",
      "torch.Size([1, 45, 160])\n",
      "torch.Size([1, 45, 160])\n"
     ]
    }
   ],
   "source": [
    "for i in torch.split(enc_hiddens[0],1):\n",
    "    print(i.size())\n",
    "    "
   ]
  },
  {
   "cell_type": "code",
   "execution_count": 29,
   "metadata": {},
   "outputs": [
    {
     "name": "stdout",
     "output_type": "stream",
     "text": [
      "torch.Size([160, 45])\n"
     ]
    }
   ],
   "source": [
    "i = torch.squeeze(i)\n",
    "i.transpose_(0,1)\n",
    "print(i.size())"
   ]
  },
  {
   "cell_type": "code",
   "execution_count": 25,
   "metadata": {},
   "outputs": [],
   "source": [
    "a = [1,2,3]"
   ]
  },
  {
   "cell_type": "code",
   "execution_count": 27,
   "metadata": {},
   "outputs": [],
   "source": [
    "a= a[:-1]"
   ]
  },
  {
   "cell_type": "code",
   "execution_count": 28,
   "metadata": {},
   "outputs": [
    {
     "data": {
      "text/plain": [
       "[1, 2]"
      ]
     },
     "execution_count": 28,
     "metadata": {},
     "output_type": "execute_result"
    }
   ],
   "source": [
    "a"
   ]
  },
  {
   "cell_type": "code",
   "execution_count": 1,
   "metadata": {},
   "outputs": [],
   "source": [
    "import pickle\n",
    "P= pickle.load(open('prob.p','rb'))\n",
    "ques= pickle.load(open('prob_ques.p','rb'))\n",
    "ques_mask = pickle.load(open('ques_mask.p','rb'))"
   ]
  },
  {
   "cell_type": "code",
   "execution_count": 25,
   "metadata": {},
   "outputs": [
    {
     "name": "stdout",
     "output_type": "stream",
     "text": [
      "torch.Size([44, 24, 395453])\n",
      "torch.Size([44, 24, 160])\n",
      "tensor([-12.8369, -12.9564, -12.7479,  ..., -12.8118, -12.9330, -12.7930],\n",
      "       device='cuda:0', grad_fn=<SelectBackward>)\n",
      "tensor([0, 0, 0, 0, 0, 0, 0, 0, 0, 0, 0, 0, 0, 0, 0, 0, 0, 0, 0, 0, 0, 0, 0, 0,\n",
      "        0, 0, 0, 0, 0, 0, 0, 0, 0, 0, 0, 0, 0, 0, 0, 0, 0, 0, 0, 0, 0, 0, 0, 0,\n",
      "        0, 0, 0, 0, 0, 0, 0, 0, 0, 0, 0, 0, 0, 0, 0, 0, 0, 0, 0, 0, 0, 0, 0, 0,\n",
      "        0, 0, 0, 0, 0, 0, 0, 0, 0, 0, 0, 0, 0, 0, 0, 0, 0, 0, 0, 0, 0, 0, 0, 0,\n",
      "        0, 0, 0, 0, 0, 0, 0, 0, 0, 0, 0, 0, 0, 0, 0, 0, 0, 0, 0, 0, 0, 0, 0, 0,\n",
      "        0, 0, 0, 0, 0, 0, 0, 0, 0, 0, 0, 0, 0, 0, 0, 0, 0, 0, 0, 0, 0, 0, 0, 0,\n",
      "        0, 0, 0, 0, 0, 0, 0, 0, 0, 0, 0, 0, 0, 0, 0, 0], device='cuda:0')\n"
     ]
    }
   ],
   "source": [
    "print(P.size())\n",
    "print(ques.size())\n",
    "print(P[2][0])\n",
    "print(ques[43][2])"
   ]
  },
  {
   "cell_type": "code",
   "execution_count": 13,
   "metadata": {},
   "outputs": [
    {
     "name": "stdout",
     "output_type": "stream",
     "text": [
      "torch.Size([44, 24, 395453])\n",
      "torch.Size([44, 24, 160])\n",
      "torch.Size([45, 24, 1])\n"
     ]
    }
   ],
   "source": [
    "import torch\n",
    "\n",
    "ques= pickle.load(open('prob_ques.p','rb'))\n",
    "ques_mask = pickle.load(open('ques_mask.p','rb'))\n",
    "print(P.size())\n",
    "print(ques.size())\n",
    "ques_mask_ = ques_mask.transpose_(0,1)\n",
    "ques_mask_ = ques_mask_.unsqueeze(-1)\n",
    "\n",
    "\n",
    "\n",
    "print(ques_mask_.size())\n",
    "target_gold_words_log_prob = torch.gather(\n",
    "    P, index=ques,\n",
    "    dim=-1)* ques_mask_[1:]\n",
    "target_gold= torch.gather(\n",
    "    P, index=ques,\n",
    "    dim=-1)"
   ]
  },
  {
   "cell_type": "code",
   "execution_count": 12,
   "metadata": {},
   "outputs": [
    {
     "name": "stdout",
     "output_type": "stream",
     "text": [
      "tensor([[[-12.8493, -12.8493, -12.8493,  ..., -12.8493, -12.8493, -12.8493],\n",
      "         [-12.8576, -12.8576, -12.8576,  ..., -12.8576, -12.8576, -12.8576],\n",
      "         [-12.8255, -12.8255, -12.8255,  ..., -12.8255, -12.8255, -12.8255],\n",
      "         ...,\n",
      "         [-12.8438, -12.8438, -12.8438,  ..., -12.8438, -12.8438, -12.8438],\n",
      "         [-12.8574, -12.8574, -12.8574,  ..., -12.8574, -12.8574, -12.8574],\n",
      "         [-12.8560, -12.8560, -12.8560,  ..., -12.8560, -12.8560, -12.8560]],\n",
      "\n",
      "        [[-12.8442, -12.8442, -12.8442,  ..., -12.8442, -12.8442, -12.8442],\n",
      "         [-12.8579, -12.8579, -12.8579,  ..., -12.8579, -12.8579, -12.8579],\n",
      "         [-12.8659, -12.8659, -12.8659,  ..., -12.8659, -12.8659, -12.8659],\n",
      "         ...,\n",
      "         [-12.8404, -12.8404, -12.8404,  ..., -12.8404, -12.8404, -12.8404],\n",
      "         [-12.8577, -12.8577, -12.8577,  ..., -12.8577, -12.8577, -12.8577],\n",
      "         [-12.8346, -12.8346, -12.8346,  ..., -12.8346, -12.8346, -12.8346]],\n",
      "\n",
      "        [[-12.8369, -12.8369, -12.8369,  ..., -12.8369, -12.8369, -12.8369],\n",
      "         [-12.8434, -12.8434, -12.8434,  ..., -12.8434, -12.8434, -12.8434],\n",
      "         [-12.8608, -12.8608, -12.8608,  ..., -12.8608, -12.8608, -12.8608],\n",
      "         ...,\n",
      "         [-12.8483, -12.8483, -12.8483,  ..., -12.8483, -12.8483, -12.8483],\n",
      "         [-12.8483, -12.8483, -12.8483,  ..., -12.8483, -12.8483, -12.8483],\n",
      "         [-12.8487, -12.8487, -12.8487,  ..., -12.8487, -12.8487, -12.8487]],\n",
      "\n",
      "        ...,\n",
      "\n",
      "        [[-12.8711, -12.8711, -12.8711,  ..., -12.8711, -12.8711, -12.8711],\n",
      "         [-12.8490, -12.8490, -12.8490,  ..., -12.8490, -12.8490, -12.8490],\n",
      "         [-12.8690, -12.8690, -12.8690,  ..., -12.8690, -12.8690, -12.8690],\n",
      "         ...,\n",
      "         [-12.8332, -12.8332, -12.8332,  ..., -12.8332, -12.8332, -12.8332],\n",
      "         [-12.8296, -12.8296, -12.8296,  ..., -12.8296, -12.8296, -12.8296],\n",
      "         [-12.8740, -12.8740, -12.8740,  ..., -12.8740, -12.8740, -12.8740]],\n",
      "\n",
      "        [[-12.8451, -12.8451, -12.8451,  ..., -12.8451, -12.8451, -12.8451],\n",
      "         [-12.8570, -12.8570, -12.8570,  ..., -12.8570, -12.8570, -12.8570],\n",
      "         [-12.8491, -12.8491, -12.8491,  ..., -12.8491, -12.8491, -12.8491],\n",
      "         ...,\n",
      "         [-12.8392, -12.8392, -12.8392,  ..., -12.8392, -12.8392, -12.8392],\n",
      "         [-12.8659, -12.8659, -12.8659,  ..., -12.8659, -12.8659, -12.8659],\n",
      "         [-12.8412, -12.8412, -12.8412,  ..., -12.8412, -12.8412, -12.8412]],\n",
      "\n",
      "        [[-12.8707, -12.8707, -12.8707,  ..., -12.8707, -12.8707, -12.8707],\n",
      "         [-12.8649, -12.8649, -12.8649,  ..., -12.8649, -12.8649, -12.8649],\n",
      "         [-12.8574, -12.8574, -12.8574,  ..., -12.8574, -12.8574, -12.8574],\n",
      "         ...,\n",
      "         [-12.8688, -12.8688, -12.8688,  ..., -12.8688, -12.8688, -12.8688],\n",
      "         [-12.8533, -12.8533, -12.8533,  ..., -12.8533, -12.8533, -12.8533],\n",
      "         [-12.8457, -12.8457, -12.8457,  ..., -12.8457, -12.8457, -12.8457]]],\n",
      "       device='cuda:0', grad_fn=<GatherBackward>)\n"
     ]
    }
   ],
   "source": [
    "print(target_gold)"
   ]
  },
  {
   "cell_type": "code",
   "execution_count": 16,
   "metadata": {},
   "outputs": [
    {
     "name": "stdout",
     "output_type": "stream",
     "text": [
      "tensor([[[-1.0708, -1.0708, -1.0708,  ..., -1.0708, -1.0708, -1.0708],\n",
      "         [-1.0715, -1.0715, -1.0715,  ..., -1.0715, -1.0715, -1.0715],\n",
      "         [-1.0688, -1.0688, -1.0688,  ..., -1.0688, -1.0688, -1.0688],\n",
      "         ...,\n",
      "         [-1.0703, -1.0703, -1.0703,  ..., -1.0703, -1.0703, -1.0703],\n",
      "         [-1.0715, -1.0715, -1.0715,  ..., -1.0715, -1.0715, -1.0715],\n",
      "         [-1.0713, -1.0713, -1.0713,  ..., -1.0713, -1.0713, -1.0713]],\n",
      "\n",
      "        [[-1.0704, -1.0704, -1.0704,  ..., -1.0704, -1.0704, -1.0704],\n",
      "         [-1.0715, -1.0715, -1.0715,  ..., -1.0715, -1.0715, -1.0715],\n",
      "         [-1.0722, -1.0722, -1.0722,  ..., -1.0722, -1.0722, -1.0722],\n",
      "         ...,\n",
      "         [-1.0700, -1.0700, -1.0700,  ..., -1.0700, -1.0700, -1.0700],\n",
      "         [-1.0715, -1.0715, -1.0715,  ..., -1.0715, -1.0715, -1.0715],\n",
      "         [-1.0696, -1.0696, -1.0696,  ..., -1.0696, -1.0696, -1.0696]],\n",
      "\n",
      "        [[-1.0697, -1.0697, -1.0697,  ..., -1.0697, -1.0697, -1.0697],\n",
      "         [-1.0703, -1.0703, -1.0703,  ..., -1.0703, -1.0703, -1.0703],\n",
      "         [-1.0717, -1.0717, -1.0717,  ..., -1.0717, -1.0717, -1.0717],\n",
      "         ...,\n",
      "         [-1.0707, -1.0707, -1.0707,  ..., -1.0707, -1.0707, -1.0707],\n",
      "         [-1.0707, -1.0707, -1.0707,  ..., -1.0707, -1.0707, -1.0707],\n",
      "         [-1.0707, -1.0707, -1.0707,  ..., -1.0707, -1.0707, -1.0707]],\n",
      "\n",
      "        ...,\n",
      "\n",
      "        [[-1.0726, -1.0726, -1.0726,  ..., -1.0726, -1.0726, -1.0726],\n",
      "         [-0.0000, -0.0000, -0.0000,  ..., -0.0000, -0.0000, -0.0000],\n",
      "         [-0.0000, -0.0000, -0.0000,  ..., -0.0000, -0.0000, -0.0000],\n",
      "         ...,\n",
      "         [-0.0000, -0.0000, -0.0000,  ..., -0.0000, -0.0000, -0.0000],\n",
      "         [-0.0000, -0.0000, -0.0000,  ..., -0.0000, -0.0000, -0.0000],\n",
      "         [-0.0000, -0.0000, -0.0000,  ..., -0.0000, -0.0000, -0.0000]],\n",
      "\n",
      "        [[-1.0704, -1.0704, -1.0704,  ..., -1.0704, -1.0704, -1.0704],\n",
      "         [-0.0000, -0.0000, -0.0000,  ..., -0.0000, -0.0000, -0.0000],\n",
      "         [-0.0000, -0.0000, -0.0000,  ..., -0.0000, -0.0000, -0.0000],\n",
      "         ...,\n",
      "         [-0.0000, -0.0000, -0.0000,  ..., -0.0000, -0.0000, -0.0000],\n",
      "         [-0.0000, -0.0000, -0.0000,  ..., -0.0000, -0.0000, -0.0000],\n",
      "         [-0.0000, -0.0000, -0.0000,  ..., -0.0000, -0.0000, -0.0000]],\n",
      "\n",
      "        [[-1.0726, -1.0726, -1.0726,  ..., -1.0726, -1.0726, -1.0726],\n",
      "         [-0.0000, -0.0000, -0.0000,  ..., -0.0000, -0.0000, -0.0000],\n",
      "         [-0.0000, -0.0000, -0.0000,  ..., -0.0000, -0.0000, -0.0000],\n",
      "         ...,\n",
      "         [-0.0000, -0.0000, -0.0000,  ..., -0.0000, -0.0000, -0.0000],\n",
      "         [-0.0000, -0.0000, -0.0000,  ..., -0.0000, -0.0000, -0.0000],\n",
      "         [-0.0000, -0.0000, -0.0000,  ..., -0.0000, -0.0000, -0.0000]]],\n",
      "       device='cuda:0', grad_fn=<DivBackward0>)\n"
     ]
    }
   ],
   "source": [
    "print(target_gold_words_log_prob/12)\n"
   ]
  },
  {
   "cell_type": "code",
   "execution_count": 3,
   "metadata": {},
   "outputs": [],
   "source": [
    "from torch import nn\n",
    "target_vocab_projection = nn.Linear(80, 395453)"
   ]
  },
  {
   "cell_type": "code",
   "execution_count": 28,
   "metadata": {},
   "outputs": [
    {
     "name": "stdout",
     "output_type": "stream",
     "text": [
      "torch.Size([43, 24, 160, 1])\n",
      "torch.Size([44, 24, 395453])\n"
     ]
    }
   ],
   "source": [
    "a = ques[1:].unsqueeze(-1)\n",
    "print(a.size())\n",
    "print(P.size())"
   ]
  },
  {
   "cell_type": "code",
   "execution_count": 36,
   "metadata": {},
   "outputs": [
    {
     "name": "stdout",
     "output_type": "stream",
     "text": [
      "tensor([[1., 2., 3.],\n",
      "        [4., 5., 6.]])\n",
      "tensor([[1.],\n",
      "        [6.]])\n",
      "tensor([[1., 5., 6.],\n",
      "        [1., 2., 3.]])\n"
     ]
    }
   ],
   "source": [
    "b = torch.Tensor([[1,2,3],[4,5,6]])\n",
    "print(b)\n",
    "index_1 = torch.LongTensor([[0],[2]])\n",
    "index_2 = torch.LongTensor([[0,1,1],[0,0,0]])\n",
    "print(torch.gather(b, dim=-1, index=index_1))\n",
    "print(torch.gather(b, dim=0, index=index_2))"
   ]
  },
  {
   "cell_type": "code",
   "execution_count": 15,
   "metadata": {},
   "outputs": [
    {
     "name": "stdout",
     "output_type": "stream",
     "text": [
      "torch.Size([24, 45])\n",
      "torch.Size([45, 24])\n"
     ]
    }
   ],
   "source": [
    "print(ques_mask.size())\n",
    "print(ques_mask.transpose_(0,1).size())"
   ]
  },
  {
   "cell_type": "code",
   "execution_count": null,
   "metadata": {},
   "outputs": [],
   "source": []
  }
 ],
 "metadata": {
  "kernelspec": {
   "display_name": "Python 3",
   "language": "python",
   "name": "python3"
  },
  "language_info": {
   "codemirror_mode": {
    "name": "ipython",
    "version": 3
   },
   "file_extension": ".py",
   "mimetype": "text/x-python",
   "name": "python",
   "nbconvert_exporter": "python",
   "pygments_lexer": "ipython3",
   "version": "3.8.3"
  }
 },
 "nbformat": 4,
 "nbformat_minor": 4
}
